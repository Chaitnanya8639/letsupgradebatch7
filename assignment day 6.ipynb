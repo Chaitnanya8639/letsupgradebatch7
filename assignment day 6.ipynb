{
 "cells": [
  {
   "cell_type": "code",
   "execution_count": 1,
   "metadata": {},
   "outputs": [
    {
     "name": "stdout",
     "output_type": "stream",
     "text": [
      "Account owner: tom\n",
      "Account balance: $500\n"
     ]
    }
   ],
   "source": [
    "class Account():\n",
    "    \n",
    "    def __init__(self, owner, balance):\n",
    "        self.owner = owner\n",
    "        self.balance = balance\n",
    "    \n",
    "    def __str__(self):\n",
    "        return 'Account owner: {owner}\\nAccount balance: ${balance}'.format(owner=self.owner, balance=self.balance)\n",
    "        \n",
    "    def deposit(self, dp_money):\n",
    "        self.balance += dp_money\n",
    "        print('Deposit Accepted, your balance is',self.balance)\n",
    "    \n",
    "    def withdraw(self, wd_money):\n",
    "        if wd_money > self.balance:\n",
    "            print('Funds Unavailable!')\n",
    "        else:\n",
    "            self.balance -= wd_money\n",
    "            print('Withdrawal Accepted, your balance is',self.balance)\n",
    "            \n",
    "acct1 = Account('tom',500)\n",
    "print(acct1)"
   ]
  },
  {
   "cell_type": "code",
   "execution_count": 2,
   "metadata": {},
   "outputs": [
    {
     "name": "stdout",
     "output_type": "stream",
     "text": [
      "Deposit Accepted, your balance is 550\n",
      "Withdrawal Accepted, your balance is 475\n",
      "Funds Unavailable!\n"
     ]
    }
   ],
   "source": [
    "acct1.deposit(50)\n",
    "acct1.withdraw(75)\n",
    "acct1.withdraw(500)"
   ]
  },
  {
   "cell_type": "code",
   "execution_count": 5,
   "metadata": {
    "scrolled": true
   },
   "outputs": [],
   "source": [
    "import math\n",
    "pi = math.pi\n",
    "class cone():\n",
    "    \n",
    "    def __init__(self,r,h):\n",
    "        self.r = r\n",
    "        self.h = h \n",
    "    \n",
    "    \n",
    "    def __int__(self):\n",
    "        return 'r: {r}\\nh: ${h}'.format(r=self.r, h=self.h)\n",
    "        \n",
    "class volume(cone):\n",
    "    def volume(self):\n",
    "        print(\"volume\")\n",
    "        return (1 / 3) * pi * r * r * h \n",
    "       \n",
    "    \n",
    "class surfacearea(cone):\n",
    "    def surfacearea(self):\n",
    "        print(\"surafearea\")\n",
    "        return pi * r * h + pi * r * r\n",
    "    \n",
    " "
   ]
  },
  {
   "cell_type": "code",
   "execution_count": 6,
   "metadata": {},
   "outputs": [
    {
     "name": "stdout",
     "output_type": "stream",
     "text": [
      "<__main__.cone object at 0x00000244A57E1F70>\n"
     ]
    }
   ],
   "source": [
    "cone1 = cone(5,8)\n",
    "print(cone1)"
   ]
  },
  {
   "cell_type": "code",
   "execution_count": null,
   "metadata": {},
   "outputs": [],
   "source": []
  }
 ],
 "metadata": {
  "kernelspec": {
   "display_name": "Python 3",
   "language": "python",
   "name": "python3"
  },
  "language_info": {
   "codemirror_mode": {
    "name": "ipython",
    "version": 3
   },
   "file_extension": ".py",
   "mimetype": "text/x-python",
   "name": "python",
   "nbconvert_exporter": "python",
   "pygments_lexer": "ipython3",
   "version": "3.8.3"
  }
 },
 "nbformat": 4,
 "nbformat_minor": 4
}
