{
 "cells": [
  {
   "cell_type": "code",
   "execution_count": 1,
   "metadata": {},
   "outputs": [],
   "source": [
    "%%writefile prime.py \n",
    "'''\n",
    "    its is a prime number function\n",
    "'''\n",
    "def prime():\n",
    "    '''\n",
    "        taking input here\n",
    "    '''\n",
    "    num = int(input(\"Enter a number:\"))\n",
    "    if num > 1:\n",
    "        for i in range(2, num):\n",
    "            if (num % i) == 0:\n",
    "                print(num, \"is not a prime number\")\n",
    "                break\n",
    "        else:\n",
    "            print(num, \"is a prime number\")\n",
    "    else:\n",
    "        print(num, \"is not a prime number\")"
   ]
  },
  {
   "cell_type": "code",
   "execution_count": 2,
   "metadata": {
    "scrolled": true
   },
   "outputs": [
    {
     "name": "stdout",
     "output_type": "stream",
     "text": [
      "\n",
      "--------------------------------------------------------------------\n",
      "\n",
      "Your code has been rated at 10.00/10 (previous run: 10.00/10, +0.00)\n",
      "\n",
      "\n",
      "\n"
     ]
    }
   ],
   "source": [
    "! pylint \"prime.py\""
   ]
  },
  {
   "cell_type": "code",
   "execution_count": 3,
   "metadata": {},
   "outputs": [],
   "source": [
    "def prime():\n",
    "    '''\n",
    "        taking input here\n",
    "    '''\n",
    "    num = int(input(\"Enter a number:\"))\n",
    "    if num > 1:\n",
    "        for i in range(2, num):\n",
    "            if (num % i) == 0:\n",
    "                print(num, \"is not a prime number\")\n",
    "                break\n",
    "        else:\n",
    "            print(num, \"is a prime number\")\n",
    "    else:\n",
    "        print(num, \"is not a prime number\")"
   ]
  },
  {
   "cell_type": "code",
   "execution_count": 4,
   "metadata": {},
   "outputs": [
    {
     "name": "stdout",
     "output_type": "stream",
     "text": [
      "Enter a number:97\n",
      "97 is a prime number\n"
     ]
    }
   ],
   "source": [
    "prime()"
   ]
  },
  {
   "cell_type": "code",
   "execution_count": 5,
   "metadata": {},
   "outputs": [
    {
     "name": "stdout",
     "output_type": "stream",
     "text": [
      "Overwriting testprime.py\n"
     ]
    }
   ],
   "source": [
    "%%writefile testprime.py\n",
    "\n",
    "import prime\n",
    "import unittest\n",
    "\n",
    "class testprime(unittest.TestCase):\n",
    "    def testnumber(self):\n",
    "        num = int(input(\"Enter a number:\"))\n",
    "        result = num, \"is a prime number\"\n",
    "        self.assertEquals(result,\"num\")\n",
    "        \n",
    "    def testingnumbers(self):\n",
    "        num = int(input(\"Enter a number:\"))\n",
    "        result = num, \"is a prime number\"\n",
    "        self.assertEquals(result,\"num\")\n",
    "\n",
    "if __name__ == \"__main__\":\n",
    "    unittest.main()"
   ]
  },
  {
   "cell_type": "code",
   "execution_count": 6,
   "metadata": {},
   "outputs": [],
   "source": [
    "def armstrong():\n",
    "    for num in range(1, 1000):\n",
    "\n",
    "   # order of number\n",
    "       order = len(str(num))\n",
    "    \n",
    "   # initialize sum\n",
    "       sum = 0\n",
    "\n",
    "       temp = num\n",
    "       while temp > 0:\n",
    "           digit = temp % 10\n",
    "           sum += digit ** order\n",
    "           temp //= 10\n",
    "\n",
    "       if num == sum:\n",
    "           yield num"
   ]
  },
  {
   "cell_type": "code",
   "execution_count": 7,
   "metadata": {},
   "outputs": [
    {
     "name": "stdout",
     "output_type": "stream",
     "text": [
      "[1, 2, 3, 4, 5, 6, 7, 8, 9, 153, 370, 371, 407]\n"
     ]
    }
   ],
   "source": [
    "print(list(armstrong()))"
   ]
  },
  {
   "cell_type": "code",
   "execution_count": null,
   "metadata": {},
   "outputs": [],
   "source": []
  }
 ],
 "metadata": {
  "kernelspec": {
   "display_name": "Python 3",
   "language": "python",
   "name": "python3"
  },
  "language_info": {
   "codemirror_mode": {
    "name": "ipython",
    "version": 3
   },
   "file_extension": ".py",
   "mimetype": "text/x-python",
   "name": "python",
   "nbconvert_exporter": "python",
   "pygments_lexer": "ipython3",
   "version": "3.8.3"
  }
 },
 "nbformat": 4,
 "nbformat_minor": 4
}
